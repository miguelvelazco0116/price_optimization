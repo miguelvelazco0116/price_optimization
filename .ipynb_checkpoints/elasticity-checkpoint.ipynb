{
 "cells": [
  {
   "cell_type": "markdown",
   "id": "b7052b79",
   "metadata": {},
   "source": [
    "## *Price elasticity*"
   ]
  },
  {
   "cell_type": "markdown",
   "id": "9a85441f",
   "metadata": {},
   "source": [
    "<center><img src=\"elasticity.webp\" alt=\"price-elasticity\" width=\"400\"></center>"
   ]
  },
  {
   "cell_type": "markdown",
   "id": "14369a5d",
   "metadata": {},
   "source": [
    "*`Elasticity`*\n",
    "\n",
    "Understanding **elasticity** is crucial in economics because it helps us grasp how sensitive people are to changes in prices or other factors.\n",
    "\n",
    "Imagine elasticity as a measure of how much something reacts when there's a change. In this case, we're talking about how much the demand for a product or service changes when its price changes.\n",
    "\n",
    "If something has high elasticity, it means that when its price goes up or down, people change how much they buy a lot. On the other hand, if something has low elasticity, people don't change their buying habits much, even if the price changes.\n",
    "\n",
    "This concept is vital for **businesses** and **policymakers.** For businesses, knowing the **elasticity** of their products helps them set prices effectively. If demand is elastic, they might need to be more careful about raising prices because it could lead to a big drop in sales. Conversely, if demand is inelastic, they might have more flexibility with pricing.\n",
    "\n",
    "In short, elasticity is like a measure of how much people care about price changes, and knowing this helps both businesses and policymakers make better decisions."
   ]
  },
  {
   "cell_type": "markdown",
   "id": "4bbdaa46",
   "metadata": {},
   "source": [
    "`packages`"
   ]
  },
  {
   "cell_type": "code",
   "execution_count": 1,
   "id": "27dd5e7e",
   "metadata": {},
   "outputs": [
    {
     "name": "stderr",
     "output_type": "stream",
     "text": [
      "c:\\users\\migue\\appdata\\local\\programs\\python\\python39\\lib\\site-packages\\requests\\__init__.py:102: RequestsDependencyWarning: urllib3 (1.26.6) or chardet (5.2.0)/charset_normalizer (2.0.4) doesn't match a supported version!\n",
      "  warnings.warn(\"urllib3 ({}) or chardet ({})/charset_normalizer ({}) doesn't match a supported \"\n"
     ]
    }
   ],
   "source": [
    "# general\n",
    "import psycopg2\n",
    "import pandas as pd\n",
    "from sqlalchemy import create_engine\n",
    "import os, yaml, requests\n",
    "import numpy as np\n",
    "\n",
    "# temporal decompose\n",
    "from pylab import rcParams\n",
    "rcParams['figure.figsize'] = 18, 8\n",
    "\n",
    "# distribution\n",
    "from scipy.stats import skewnorm\n",
    "\n",
    "# stas models\n",
    "import statsmodels.api as sm\n",
    "from statsmodels.stats import descriptivestats\n",
    "\n",
    "# To plot pretty figures\n",
    "%matplotlib inline\n",
    "import matplotlib as mpl\n",
    "import matplotlib.pyplot as plt\n",
    "mpl.rc('axes', labelsize=14)\n",
    "mpl.rc('xtick', labelsize=12)\n",
    "mpl.rc('ytick', labelsize=12)\n",
    "plt.style.use('ggplot')\n",
    "\n",
    "# optmization\n",
    "from skopt import gp_minimize\n",
    "\n",
    "# sctatter plot\n",
    "from pandas.plotting import scatter_matrix\n",
    "\n",
    "# warnings\n",
    "import warnings\n",
    "warnings.filterwarnings('ignore')"
   ]
  },
  {
   "cell_type": "markdown",
   "id": "a2a42934",
   "metadata": {},
   "source": [
    "`functions`"
   ]
  },
  {
   "cell_type": "code",
   "execution_count": 2,
   "id": "fab8f6bb",
   "metadata": {},
   "outputs": [],
   "source": [
    "def read_yaml_file(yaml_file):\n",
    "    \"\"\" load yaml cofigurations \"\"\"\n",
    "\n",
    "    config = None\n",
    "    try:\n",
    "        with open(yaml_file, 'r') as f:\n",
    "            config = yaml.safe_load(f)\n",
    "    except:\n",
    "        raise FileNotFoundError('Couldnt load the file')\n",
    "\n",
    "    return config\n",
    "\n",
    "\n",
    "def get_db_conn_post(creds_file):\n",
    "    \"\"\" Get an authenticated psycopg db connection, given a credentials file\"\"\"\n",
    "    creds = read_yaml_file(creds_file)['db']\n",
    "\n",
    "    connection = psycopg2.connect(\n",
    "        user=creds['user'],\n",
    "        password=creds['pass'],\n",
    "        host=creds['host'],\n",
    "        port=creds['port'],\n",
    "        database=creds['db']\n",
    "    )\n",
    "\n",
    "    return connection"
   ]
  },
  {
   "cell_type": "markdown",
   "id": "1ba8fc15",
   "metadata": {},
   "source": [
    "`get data`"
   ]
  },
  {
   "cell_type": "code",
   "execution_count": 3,
   "id": "728cb0f9",
   "metadata": {},
   "outputs": [],
   "source": [
    "db_conn_post = get_db_conn_post(\"key_postgresql.yaml\")"
   ]
  },
  {
   "cell_type": "code",
   "execution_count": 4,
   "id": "b4e77a29",
   "metadata": {},
   "outputs": [],
   "source": [
    "q = \"\"\"\n",
    "    select\n",
    "            *\n",
    "    from\n",
    "            kaggle_data.price_optimization.data_gas_station;\n",
    "\"\"\""
   ]
  },
  {
   "cell_type": "code",
   "execution_count": 5,
   "id": "8702d7c9",
   "metadata": {},
   "outputs": [
    {
     "data": {
      "text/html": [
       "<div>\n",
       "<style scoped>\n",
       "    .dataframe tbody tr th:only-of-type {\n",
       "        vertical-align: middle;\n",
       "    }\n",
       "\n",
       "    .dataframe tbody tr th {\n",
       "        vertical-align: top;\n",
       "    }\n",
       "\n",
       "    .dataframe thead th {\n",
       "        text-align: right;\n",
       "    }\n",
       "</style>\n",
       "<table border=\"1\" class=\"dataframe\">\n",
       "  <thead>\n",
       "    <tr style=\"text-align: right;\">\n",
       "      <th></th>\n",
       "      <th>date</th>\n",
       "      <th>day</th>\n",
       "      <th>month</th>\n",
       "      <th>year</th>\n",
       "      <th>product</th>\n",
       "      <th>hour</th>\n",
       "      <th>volume</th>\n",
       "      <th>transactions</th>\n",
       "      <th>avg_by_tkt</th>\n",
       "      <th>price</th>\n",
       "      <th>raining_days</th>\n",
       "      <th>weekday</th>\n",
       "      <th>is_weekend</th>\n",
       "      <th>holiday_name</th>\n",
       "    </tr>\n",
       "  </thead>\n",
       "  <tbody>\n",
       "    <tr>\n",
       "      <th>0</th>\n",
       "      <td>2019-06-09</td>\n",
       "      <td>9</td>\n",
       "      <td>6</td>\n",
       "      <td>2019</td>\n",
       "      <td>diesel</td>\n",
       "      <td>10</td>\n",
       "      <td>47.416</td>\n",
       "      <td>2</td>\n",
       "      <td>23.708</td>\n",
       "      <td>21.09</td>\n",
       "      <td>26.1</td>\n",
       "      <td>7</td>\n",
       "      <td>1</td>\n",
       "      <td>normal day</td>\n",
       "    </tr>\n",
       "    <tr>\n",
       "      <th>1</th>\n",
       "      <td>2019-06-09</td>\n",
       "      <td>9</td>\n",
       "      <td>6</td>\n",
       "      <td>2019</td>\n",
       "      <td>diesel</td>\n",
       "      <td>16</td>\n",
       "      <td>100.000</td>\n",
       "      <td>1</td>\n",
       "      <td>100.000</td>\n",
       "      <td>21.09</td>\n",
       "      <td>26.1</td>\n",
       "      <td>7</td>\n",
       "      <td>1</td>\n",
       "      <td>normal day</td>\n",
       "    </tr>\n",
       "    <tr>\n",
       "      <th>2</th>\n",
       "      <td>2019-06-09</td>\n",
       "      <td>9</td>\n",
       "      <td>6</td>\n",
       "      <td>2019</td>\n",
       "      <td>diesel</td>\n",
       "      <td>19</td>\n",
       "      <td>9.483</td>\n",
       "      <td>1</td>\n",
       "      <td>9.483</td>\n",
       "      <td>21.09</td>\n",
       "      <td>26.1</td>\n",
       "      <td>7</td>\n",
       "      <td>1</td>\n",
       "      <td>normal day</td>\n",
       "    </tr>\n",
       "  </tbody>\n",
       "</table>\n",
       "</div>"
      ],
      "text/plain": [
       "        date  day  month  year product  hour   volume  transactions  \\\n",
       "0 2019-06-09    9      6  2019  diesel    10   47.416             2   \n",
       "1 2019-06-09    9      6  2019  diesel    16  100.000             1   \n",
       "2 2019-06-09    9      6  2019  diesel    19    9.483             1   \n",
       "\n",
       "   avg_by_tkt  price  raining_days  weekday  is_weekend holiday_name  \n",
       "0      23.708  21.09          26.1        7           1   normal day  \n",
       "1     100.000  21.09          26.1        7           1   normal day  \n",
       "2       9.483  21.09          26.1        7           1   normal day  "
      ]
     },
     "execution_count": 5,
     "metadata": {},
     "output_type": "execute_result"
    }
   ],
   "source": [
    "df_raw = pd.read_sql(sql = q, con = db_conn_post)\n",
    "df_raw.head(3)"
   ]
  },
  {
   "cell_type": "markdown",
   "id": "2ac291ca",
   "metadata": {},
   "source": [
    "**`adjust the dataset`**"
   ]
  },
  {
   "cell_type": "code",
   "execution_count": 6,
   "id": "7f827712",
   "metadata": {},
   "outputs": [],
   "source": [
    "# add holiday flag\n",
    "df_raw['holiday_flag']=np.where(df_raw['holiday_name']!='normal day', 1, 0)"
   ]
  },
  {
   "cell_type": "markdown",
   "id": "b4fe5e0d",
   "metadata": {},
   "source": [
    "For the purpose of our analysis, we will consider that the COVID-19 pandemic began in March, and we will mark this as a significant event in our data."
   ]
  },
  {
   "cell_type": "code",
   "execution_count": 7,
   "id": "67dad212",
   "metadata": {},
   "outputs": [
    {
     "data": {
      "text/html": [
       "<div>\n",
       "<style scoped>\n",
       "    .dataframe tbody tr th:only-of-type {\n",
       "        vertical-align: middle;\n",
       "    }\n",
       "\n",
       "    .dataframe tbody tr th {\n",
       "        vertical-align: top;\n",
       "    }\n",
       "\n",
       "    .dataframe thead th {\n",
       "        text-align: right;\n",
       "    }\n",
       "</style>\n",
       "<table border=\"1\" class=\"dataframe\">\n",
       "  <thead>\n",
       "    <tr style=\"text-align: right;\">\n",
       "      <th></th>\n",
       "      <th>date</th>\n",
       "      <th>day</th>\n",
       "      <th>month</th>\n",
       "      <th>year</th>\n",
       "      <th>product</th>\n",
       "      <th>hour</th>\n",
       "      <th>volume</th>\n",
       "      <th>transactions</th>\n",
       "      <th>avg_by_tkt</th>\n",
       "      <th>price</th>\n",
       "      <th>raining_days</th>\n",
       "      <th>weekday</th>\n",
       "      <th>is_weekend</th>\n",
       "      <th>holiday_name</th>\n",
       "      <th>holiday_flag</th>\n",
       "      <th>covid</th>\n",
       "    </tr>\n",
       "  </thead>\n",
       "  <tbody>\n",
       "    <tr>\n",
       "      <th>0</th>\n",
       "      <td>2019-06-09</td>\n",
       "      <td>9</td>\n",
       "      <td>6</td>\n",
       "      <td>2019</td>\n",
       "      <td>diesel</td>\n",
       "      <td>10</td>\n",
       "      <td>47.416</td>\n",
       "      <td>2</td>\n",
       "      <td>23.708</td>\n",
       "      <td>21.09</td>\n",
       "      <td>26.1</td>\n",
       "      <td>7</td>\n",
       "      <td>1</td>\n",
       "      <td>normal day</td>\n",
       "      <td>0</td>\n",
       "      <td>0</td>\n",
       "    </tr>\n",
       "  </tbody>\n",
       "</table>\n",
       "</div>"
      ],
      "text/plain": [
       "        date  day  month  year product  hour  volume  transactions  \\\n",
       "0 2019-06-09    9      6  2019  diesel    10  47.416             2   \n",
       "\n",
       "   avg_by_tkt  price  raining_days  weekday  is_weekend holiday_name  \\\n",
       "0      23.708  21.09          26.1        7           1   normal day   \n",
       "\n",
       "   holiday_flag  covid  \n",
       "0             0      0  "
      ]
     },
     "execution_count": 7,
     "metadata": {},
     "output_type": "execute_result"
    }
   ],
   "source": [
    "df_raw['covid']=np.where(df_raw['date']>'2020-03-20', 1, 0)\n",
    "df_raw.head(1)"
   ]
  },
  {
   "cell_type": "markdown",
   "id": "5a096d79",
   "metadata": {},
   "source": [
    "*create a copy form the original data*"
   ]
  },
  {
   "cell_type": "code",
   "execution_count": 8,
   "id": "15ea0b35",
   "metadata": {},
   "outputs": [],
   "source": [
    "df=df_raw.copy()"
   ]
  },
  {
   "cell_type": "markdown",
   "id": "1f870513",
   "metadata": {},
   "source": [
    "**`elasticity`**"
   ]
  },
  {
   "cell_type": "markdown",
   "id": "8e188392",
   "metadata": {},
   "source": [
    "Analyzing the data from the charts we've seen earlier, it seems that there might be a relationship between price changes and demand fluctuations.\n",
    "\n",
    "Looking ahead, our main goal is to understand this relationship, especially considering the extraordinary circumstances such as the ongoing pandemic. By taking into account the timing of the pandemic and its effects on consumer behavior, we hope to uncover how demand elasticity has been influenced."
   ]
  },
  {
   "cell_type": "markdown",
   "id": "1e409f9e",
   "metadata": {},
   "source": [
    "*price vs sales*\n",
    "\n",
    "Exploring the dynamics of product elasticity amidst the backdrop of a pandemic-induced lockdown reveals intriguing insights. Observing the chart below, it becomes evident that the product exhibits characteristics of inelasticity. Despite a higher price point, sales remain robust, indicating a lesser degree of responsiveness to price changes. However, it's crucial to note that this trend is intricately tied to the unique circumstances of the lockdown imposed due to the pandemic. Let's delve deeper into the implications of this phenomenon."
   ]
  },
  {
   "cell_type": "code",
   "execution_count": 9,
   "id": "9d62c3f6",
   "metadata": {},
   "outputs": [
    {
     "name": "stdout",
     "output_type": "stream",
     "text": [
      "(8379, 8)\n"
     ]
    },
    {
     "data": {
      "text/html": [
       "<div>\n",
       "<style scoped>\n",
       "    .dataframe tbody tr th:only-of-type {\n",
       "        vertical-align: middle;\n",
       "    }\n",
       "\n",
       "    .dataframe tbody tr th {\n",
       "        vertical-align: top;\n",
       "    }\n",
       "\n",
       "    .dataframe thead th {\n",
       "        text-align: right;\n",
       "    }\n",
       "</style>\n",
       "<table border=\"1\" class=\"dataframe\">\n",
       "  <thead>\n",
       "    <tr style=\"text-align: right;\">\n",
       "      <th></th>\n",
       "      <th>weekday</th>\n",
       "      <th>is_weekend</th>\n",
       "      <th>hour</th>\n",
       "      <th>raining_days</th>\n",
       "      <th>holiday_flag</th>\n",
       "      <th>covid</th>\n",
       "      <th>volume</th>\n",
       "      <th>price</th>\n",
       "    </tr>\n",
       "  </thead>\n",
       "  <tbody>\n",
       "    <tr>\n",
       "      <th>0</th>\n",
       "      <td>7</td>\n",
       "      <td>1</td>\n",
       "      <td>6</td>\n",
       "      <td>26.1</td>\n",
       "      <td>0</td>\n",
       "      <td>0</td>\n",
       "      <td>84.356</td>\n",
       "      <td>19.59</td>\n",
       "    </tr>\n",
       "  </tbody>\n",
       "</table>\n",
       "</div>"
      ],
      "text/plain": [
       "   weekday  is_weekend  hour  raining_days  holiday_flag  covid  volume  price\n",
       "0        7           1     6          26.1             0      0  84.356  19.59"
      ]
     },
     "execution_count": 9,
     "metadata": {},
     "output_type": "execute_result"
    }
   ],
   "source": [
    "cols = ['date', 'hour', 'volume', 'price', 'raining_days', 'weekday', 'is_weekend', 'holiday_flag', 'covid']\n",
    "condition=df['product']=='regular'\n",
    "data=df[cols][condition].\\\n",
    "            groupby(by=['date', 'weekday', 'is_weekend', 'hour', 'raining_days','holiday_flag', 'covid'], as_index=False).\\\n",
    "            agg({'volume':'sum', 'price':'mean'}).\\\n",
    "            drop(columns='date', inplace=False)\n",
    "\n",
    "data_raw=data.copy()\n",
    "print(data.shape)\n",
    "data.head(1)"
   ]
  },
  {
   "cell_type": "markdown",
   "id": "01ffbe2a",
   "metadata": {},
   "source": [
    "The subsequent phase involves delving deeper into the correlation between pricing and sales to ascertain whether a linear relationship exists."
   ]
  },
  {
   "cell_type": "code",
   "execution_count": 10,
   "id": "a9300394",
   "metadata": {},
   "outputs": [
    {
     "data": {
      "text/html": [
       "<div>\n",
       "<style scoped>\n",
       "    .dataframe tbody tr th:only-of-type {\n",
       "        vertical-align: middle;\n",
       "    }\n",
       "\n",
       "    .dataframe tbody tr th {\n",
       "        vertical-align: top;\n",
       "    }\n",
       "\n",
       "    .dataframe thead th {\n",
       "        text-align: right;\n",
       "    }\n",
       "</style>\n",
       "<table border=\"1\" class=\"dataframe\">\n",
       "  <thead>\n",
       "    <tr style=\"text-align: right;\">\n",
       "      <th></th>\n",
       "      <th>price</th>\n",
       "      <th>volume</th>\n",
       "    </tr>\n",
       "  </thead>\n",
       "  <tbody>\n",
       "    <tr>\n",
       "      <th>0</th>\n",
       "      <td>12.89</td>\n",
       "      <td>30964.281</td>\n",
       "    </tr>\n",
       "  </tbody>\n",
       "</table>\n",
       "</div>"
      ],
      "text/plain": [
       "   price     volume\n",
       "0  12.89  30964.281"
      ]
     },
     "execution_count": 10,
     "metadata": {},
     "output_type": "execute_result"
    }
   ],
   "source": [
    "data_group=data[['price', 'volume']].groupby(by='price', as_index=False).sum()\n",
    "data_group.head(1)"
   ]
  },
  {
   "cell_type": "code",
   "execution_count": 11,
   "id": "11e1bfdf",
   "metadata": {
    "scrolled": false
   },
   "outputs": [
    {
     "data": {
      "image/png": "[encoded data removed]",
      "text/plain": [
       "<Figure size 1152x864 with 2 Axes>"
      ]
     },
     "metadata": {},
     "output_type": "display_data"
    }
   ],
   "source": [
    "plt.figure(figsize=(16, 12))\n",
    "\n",
    "plt.subplot(211)\n",
    "plt.scatter(x=data_group['volume'], y=data_group['price'])\n",
    "plt.title('sales vs price')\n",
    "plt.xlabel('sales')\n",
    "plt.ylabel('price')\n",
    "\n",
    "plt.subplot(212)\n",
    "plt.scatter(x=np.log(data_group['volume']), y=np.log(data_group['price']))\n",
    "plt.title('log sales vs log price')\n",
    "plt.xlabel('log sales')\n",
    "plt.ylabel('log price')\n",
    "plt.savefig('log_sales_vs_log_price.png')\n",
    "plt.show()"
   ]
  },
  {
   "cell_type": "markdown",
   "id": "cac9f110",
   "metadata": {},
   "source": [
    "In the charts above, we can discern the connection between price and sales, as well as these variables when logged. However, it's evident that a linear relationship between them is not apparent. Therefore, our subsequent move is to ascertain the elasticity to understand:\n",
    "\n",
    "The effect of price on sales (elasticity)."
   ]
  },
  {
   "cell_type": "code",
   "execution_count": 12,
   "id": "5c469938",
   "metadata": {},
   "outputs": [],
   "source": [
    "import statsmodels.api as ms\n",
    "\n",
    "data['log_volume']=np.log(data['volume'])\n",
    "data['log_price']=np.log(data['price'])\n",
    "\n",
    "X=data['log_price']\n",
    "y=data['log_volume']\n",
    "X=sm.add_constant(X)\n",
    "sm_model01=sm.OLS(y, X).fit()"
   ]
  },
  {
   "cell_type": "code",
   "execution_count": 13,
   "id": "e5cb056e",
   "metadata": {},
   "outputs": [
    {
     "name": "stdout",
     "output_type": "stream",
     "text": [
      "elasticity:  3.49761691567335\n",
      "intercept:  -4.415641022583361\n"
     ]
    }
   ],
   "source": [
    "print('elasticity: ', sm_model01.params['log_price'])\n",
    "print('intercept: ', sm_model01.params['const'])"
   ]
  },
  {
   "cell_type": "code",
   "execution_count": 14,
   "id": "cd04310a",
   "metadata": {},
   "outputs": [
    {
     "data": {
      "text/html": [
       "<table class=\"simpletable\">\n",
       "<caption>OLS Regression Results</caption>\n",
       "<tr>\n",
       "  <th>Dep. Variable:</th>       <td>log_volume</td>    <th>  R-squared:         </th> <td>   0.125</td> \n",
       "</tr>\n",
       "<tr>\n",
       "  <th>Model:</th>                   <td>OLS</td>       <th>  Adj. R-squared:    </th> <td>   0.125</td> \n",
       "</tr>\n",
       "<tr>\n",
       "  <th>Method:</th>             <td>Least Squares</td>  <th>  F-statistic:       </th> <td>   1198.</td> \n",
       "</tr>\n",
       "<tr>\n",
       "  <th>Date:</th>             <td>Fri, 05 Apr 2024</td> <th>  Prob (F-statistic):</th> <td>1.56e-245</td>\n",
       "</tr>\n",
       "<tr>\n",
       "  <th>Time:</th>                 <td>19:59:07</td>     <th>  Log-Likelihood:    </th> <td> -11689.</td> \n",
       "</tr>\n",
       "<tr>\n",
       "  <th>No. Observations:</th>      <td>  8379</td>      <th>  AIC:               </th> <td>2.338e+04</td>\n",
       "</tr>\n",
       "<tr>\n",
       "  <th>Df Residuals:</th>          <td>  8377</td>      <th>  BIC:               </th> <td>2.340e+04</td>\n",
       "</tr>\n",
       "<tr>\n",
       "  <th>Df Model:</th>              <td>     1</td>      <th>                     </th>     <td> </td>    \n",
       "</tr>\n",
       "<tr>\n",
       "  <th>Covariance Type:</th>      <td>nonrobust</td>    <th>                     </th>     <td> </td>    \n",
       "</tr>\n",
       "</table>\n",
       "<table class=\"simpletable\">\n",
       "<tr>\n",
       "      <td></td>         <th>coef</th>     <th>std err</th>      <th>t</th>      <th>P>|t|</th>  <th>[0.025</th>    <th>0.975]</th>  \n",
       "</tr>\n",
       "<tr>\n",
       "  <th>const</th>     <td>   -4.4156</td> <td>    0.292</td> <td>  -15.141</td> <td> 0.000</td> <td>   -4.987</td> <td>   -3.844</td>\n",
       "</tr>\n",
       "<tr>\n",
       "  <th>log_price</th> <td>    3.4976</td> <td>    0.101</td> <td>   34.616</td> <td> 0.000</td> <td>    3.300</td> <td>    3.696</td>\n",
       "</tr>\n",
       "</table>\n",
       "<table class=\"simpletable\">\n",
       "<tr>\n",
       "  <th>Omnibus:</th>       <td>3930.551</td> <th>  Durbin-Watson:     </th> <td>   0.735</td> \n",
       "</tr>\n",
       "<tr>\n",
       "  <th>Prob(Omnibus):</th>  <td> 0.000</td>  <th>  Jarque-Bera (JB):  </th> <td>26412.839</td>\n",
       "</tr>\n",
       "<tr>\n",
       "  <th>Skew:</th>           <td>-2.156</td>  <th>  Prob(JB):          </th> <td>    0.00</td> \n",
       "</tr>\n",
       "<tr>\n",
       "  <th>Kurtosis:</th>       <td>10.554</td>  <th>  Cond. No.          </th> <td>    88.4</td> \n",
       "</tr>\n",
       "</table><br/><br/>Notes:<br/>[1] Standard Errors assume that the covariance matrix of the errors is correctly specified."
      ],
      "text/plain": [
       "<class 'statsmodels.iolib.summary.Summary'>\n",
       "\"\"\"\n",
       "                            OLS Regression Results                            \n",
       "==============================================================================\n",
       "Dep. Variable:             log_volume   R-squared:                       0.125\n",
       "Model:                            OLS   Adj. R-squared:                  0.125\n",
       "Method:                 Least Squares   F-statistic:                     1198.\n",
       "Date:                Fri, 05 Apr 2024   Prob (F-statistic):          1.56e-245\n",
       "Time:                        19:59:07   Log-Likelihood:                -11689.\n",
       "No. Observations:                8379   AIC:                         2.338e+04\n",
       "Df Residuals:                    8377   BIC:                         2.340e+04\n",
       "Df Model:                           1                                         \n",
       "Covariance Type:            nonrobust                                         \n",
       "==============================================================================\n",
       "                 coef    std err          t      P>|t|      [0.025      0.975]\n",
       "------------------------------------------------------------------------------\n",
       "const         -4.4156      0.292    -15.141      0.000      -4.987      -3.844\n",
       "log_price      3.4976      0.101     34.616      0.000       3.300       3.696\n",
       "==============================================================================\n",
       "Omnibus:                     3930.551   Durbin-Watson:                   0.735\n",
       "Prob(Omnibus):                  0.000   Jarque-Bera (JB):            26412.839\n",
       "Skew:                          -2.156   Prob(JB):                         0.00\n",
       "Kurtosis:                      10.554   Cond. No.                         88.4\n",
       "==============================================================================\n",
       "\n",
       "Notes:\n",
       "[1] Standard Errors assume that the covariance matrix of the errors is correctly specified.\n",
       "\"\"\""
      ]
     },
     "execution_count": 14,
     "metadata": {},
     "output_type": "execute_result"
    }
   ],
   "source": [
    "sm_model01.summary()"
   ]
  },
  {
   "cell_type": "markdown",
   "id": "acfaa0f6",
   "metadata": {},
   "source": [
    "In the table provided above, we note that the model's elasticity stands at **3.49.** It's noteworthy that the elasticity isn't negative, suggesting that there are periods when both price and sales trend upwards concurrently. To gain deeper insights, it's imperative to introduce additional factors such as the time of day or the frequency of rainy days.\n",
    "\n",
    "It's crucial to emphasize that we're logging the price to grasp the percentage change between the price and the sales."
   ]
  },
  {
   "cell_type": "code",
   "execution_count": 15,
   "id": "55eb3cd8",
   "metadata": {},
   "outputs": [],
   "source": [
    "data=data[data['covid']==0]"
   ]
  },
  {
   "cell_type": "code",
   "execution_count": 16,
   "id": "0079cc99",
   "metadata": {},
   "outputs": [],
   "source": [
    "data['log_volume']=np.log(data['volume'])\n",
    "data['log_price']=np.log(data['price'])\n",
    "\n",
    "X=data['log_price']\n",
    "y=data['log_volume']\n",
    "X=sm.add_constant(X)\n",
    "sm_model02=sm.OLS(y, X).fit()"
   ]
  },
  {
   "cell_type": "code",
   "execution_count": 17,
   "id": "6a932d4c",
   "metadata": {},
   "outputs": [
    {
     "data": {
      "text/html": [
       "<table class=\"simpletable\">\n",
       "<caption>OLS Regression Results</caption>\n",
       "<tr>\n",
       "  <th>Dep. Variable:</th>       <td>log_volume</td>    <th>  R-squared:         </th> <td>   0.001</td> \n",
       "</tr>\n",
       "<tr>\n",
       "  <th>Model:</th>                   <td>OLS</td>       <th>  Adj. R-squared:    </th> <td>   0.001</td> \n",
       "</tr>\n",
       "<tr>\n",
       "  <th>Method:</th>             <td>Least Squares</td>  <th>  F-statistic:       </th> <td>   4.948</td> \n",
       "</tr>\n",
       "<tr>\n",
       "  <th>Date:</th>             <td>Fri, 05 Apr 2024</td> <th>  Prob (F-statistic):</th>  <td>0.0262</td>  \n",
       "</tr>\n",
       "<tr>\n",
       "  <th>Time:</th>                 <td>19:59:07</td>     <th>  Log-Likelihood:    </th> <td> -6901.1</td> \n",
       "</tr>\n",
       "<tr>\n",
       "  <th>No. Observations:</th>      <td>  5281</td>      <th>  AIC:               </th> <td>1.381e+04</td>\n",
       "</tr>\n",
       "<tr>\n",
       "  <th>Df Residuals:</th>          <td>  5279</td>      <th>  BIC:               </th> <td>1.382e+04</td>\n",
       "</tr>\n",
       "<tr>\n",
       "  <th>Df Model:</th>              <td>     1</td>      <th>                     </th>     <td> </td>    \n",
       "</tr>\n",
       "<tr>\n",
       "  <th>Covariance Type:</th>      <td>nonrobust</td>    <th>                     </th>     <td> </td>    \n",
       "</tr>\n",
       "</table>\n",
       "<table class=\"simpletable\">\n",
       "<tr>\n",
       "      <td></td>         <th>coef</th>     <th>std err</th>      <th>t</th>      <th>P>|t|</th>  <th>[0.025</th>    <th>0.975]</th>  \n",
       "</tr>\n",
       "<tr>\n",
       "  <th>const</th>     <td>    2.5109</td> <td>    1.572</td> <td>    1.597</td> <td> 0.110</td> <td>   -0.571</td> <td>    5.593</td>\n",
       "</tr>\n",
       "<tr>\n",
       "  <th>log_price</th> <td>    1.1856</td> <td>    0.533</td> <td>    2.224</td> <td> 0.026</td> <td>    0.141</td> <td>    2.230</td>\n",
       "</tr>\n",
       "</table>\n",
       "<table class=\"simpletable\">\n",
       "<tr>\n",
       "  <th>Omnibus:</th>       <td>3530.900</td> <th>  Durbin-Watson:     </th> <td>   0.899</td> \n",
       "</tr>\n",
       "<tr>\n",
       "  <th>Prob(Omnibus):</th>  <td> 0.000</td>  <th>  Jarque-Bera (JB):  </th> <td>53652.538</td>\n",
       "</tr>\n",
       "<tr>\n",
       "  <th>Skew:</th>           <td>-3.026</td>  <th>  Prob(JB):          </th> <td>    0.00</td> \n",
       "</tr>\n",
       "<tr>\n",
       "  <th>Kurtosis:</th>       <td>17.395</td>  <th>  Cond. No.          </th> <td>    420.</td> \n",
       "</tr>\n",
       "</table><br/><br/>Notes:<br/>[1] Standard Errors assume that the covariance matrix of the errors is correctly specified."
      ],
      "text/plain": [
       "<class 'statsmodels.iolib.summary.Summary'>\n",
       "\"\"\"\n",
       "                            OLS Regression Results                            \n",
       "==============================================================================\n",
       "Dep. Variable:             log_volume   R-squared:                       0.001\n",
       "Model:                            OLS   Adj. R-squared:                  0.001\n",
       "Method:                 Least Squares   F-statistic:                     4.948\n",
       "Date:                Fri, 05 Apr 2024   Prob (F-statistic):             0.0262\n",
       "Time:                        19:59:07   Log-Likelihood:                -6901.1\n",
       "No. Observations:                5281   AIC:                         1.381e+04\n",
       "Df Residuals:                    5279   BIC:                         1.382e+04\n",
       "Df Model:                           1                                         \n",
       "Covariance Type:            nonrobust                                         \n",
       "==============================================================================\n",
       "                 coef    std err          t      P>|t|      [0.025      0.975]\n",
       "------------------------------------------------------------------------------\n",
       "const          2.5109      1.572      1.597      0.110      -0.571       5.593\n",
       "log_price      1.1856      0.533      2.224      0.026       0.141       2.230\n",
       "==============================================================================\n",
       "Omnibus:                     3530.900   Durbin-Watson:                   0.899\n",
       "Prob(Omnibus):                  0.000   Jarque-Bera (JB):            53652.538\n",
       "Skew:                          -3.026   Prob(JB):                         0.00\n",
       "Kurtosis:                      17.395   Cond. No.                         420.\n",
       "==============================================================================\n",
       "\n",
       "Notes:\n",
       "[1] Standard Errors assume that the covariance matrix of the errors is correctly specified.\n",
       "\"\"\""
      ]
     },
     "execution_count": 17,
     "metadata": {},
     "output_type": "execute_result"
    }
   ],
   "source": [
    "sm_model02.summary()"
   ]
  },
  {
   "cell_type": "markdown",
   "id": "5c90454f",
   "metadata": {},
   "source": [
    "As observed, despite the decrease in the price coefficient, there is a consistent positive contribution that remains statistically significant.\n",
    "\n",
    "In the OLS models examined, the **elasticity**—how one variable responds to changes in another—shifts when COVID-19 data is included, resulting in slightly smaller elasticities. However, despite this decrease, the first OLS model demonstrates a stronger ability to explain volume based on **price dynamics,** as indicated by its higher R<sup>2</sup> value. \n",
    "\n",
    "Additionally, the integration of COVID-19 data leads to a reduction in kurtosis, reflecting a smoother distribution of data points. These findings suggest that while the pandemic influences the relationships between variables, certain models retain their explanatory power and exhibit less volatility."
   ]
  },
  {
   "cell_type": "code",
   "execution_count": 18,
   "id": "45528a9e",
   "metadata": {},
   "outputs": [],
   "source": [
    "data=data_raw"
   ]
  },
  {
   "cell_type": "markdown",
   "id": "6daacaa1",
   "metadata": {},
   "source": [
    "*real data vs OLS predictions*"
   ]
  },
  {
   "cell_type": "markdown",
   "id": "435fdff4",
   "metadata": {},
   "source": [
    "Considering the following equation that illustrates the anticipated demand curve,\n",
    "$$ Y = \\alpha \\cdot P^b $$\n",
    "where\n",
    "$$\\alpha=e^a$$\n",
    "and, where *a* represents the intercept of the Ordinary Least Squares (OLS) model and *b* signifies the elasticity, we observe the following relationship:"
   ]
  },
  {
   "cell_type": "code",
   "execution_count": 19,
   "id": "fd72edf6",
   "metadata": {},
   "outputs": [],
   "source": [
    "a=sm_model01.params['const']\n",
    "b=sm_model01.params['log_price']"
   ]
  },
  {
   "cell_type": "code",
   "execution_count": 20,
   "id": "ff359f5f",
   "metadata": {},
   "outputs": [],
   "source": [
    "# demand function\n",
    "def demand(a, b, P):\n",
    "    alfa=np.exp(a)\n",
    "    return alfa*(P**b)"
   ]
  },
  {
   "cell_type": "code",
   "execution_count": 21,
   "id": "d4377b1d",
   "metadata": {},
   "outputs": [],
   "source": [
    "data['expect_Y']=data['price'].apply(lambda x: demand(a, b, x))"
   ]
  },
  {
   "cell_type": "code",
   "execution_count": 22,
   "id": "e22a86da",
   "metadata": {},
   "outputs": [
    {
     "data": {
      "image/png": "[encoded data removed]",
      "text/plain": [
       "<Figure size 1296x504 with 1 Axes>"
      ]
     },
     "metadata": {},
     "output_type": "display_data"
    }
   ],
   "source": [
    "plt.figure(figsize=(18, 7))\n",
    "\n",
    "plt.scatter(x=data['volume'], y=data['price'], alpha=1, label='real volume')\n",
    "plt.scatter(x=data['expect_Y'], y=data['price'], alpha=0.8, label='expected sales', color='b')\n",
    "\n",
    "plt.title('real sales vs expected sales')\n",
    "plt.xlabel('sales')\n",
    "plt.ylabel('price')\n",
    "plt.legend(loc='lower right')\n",
    "plt.savefig('predicted_price.png')\n",
    "plt.show()"
   ]
  },
  {
   "cell_type": "markdown",
   "id": "3c12c764",
   "metadata": {},
   "source": [
    "As depicted in the chart above, our model's predictive accuracy regarding volume is not particularly high. However, it does provide insight into volume trends, particularly when considering **price fluctuations.** It's important to acknowledge that our output is influenced by various factors such as time of day, day of the week, and weather conditions, not solely reliant on price. Moreover, in accordance with **elasticity,** an increase in price correlates with an increase in volume. However, it's evident that the volume is not highly sensitive to price changes."
   ]
  },
  {
   "cell_type": "markdown",
   "id": "8a0b5613",
   "metadata": {},
   "source": [
    "**`price power-up zone`**"
   ]
  },
  {
   "cell_type": "markdown",
   "id": "f78d47bb",
   "metadata": {},
   "source": [
    "*cost of goods*"
   ]
  },
  {
   "cell_type": "code",
   "execution_count": 23,
   "id": "bff8e7fa",
   "metadata": {},
   "outputs": [],
   "source": [
    "q = \"\"\"\n",
    "        select \n",
    "                *\n",
    "        from \n",
    "                kaggle_data.price_optimization.cog_gas_station \n",
    "        where \n",
    "                \"Terminal\"='TOLUCA';\n",
    "\"\"\""
   ]
  },
  {
   "cell_type": "code",
   "execution_count": 24,
   "id": "e408114c",
   "metadata": {},
   "outputs": [
    {
     "data": {
      "text/html": [
       "<div>\n",
       "<style scoped>\n",
       "    .dataframe tbody tr th:only-of-type {\n",
       "        vertical-align: middle;\n",
       "    }\n",
       "\n",
       "    .dataframe tbody tr th {\n",
       "        vertical-align: top;\n",
       "    }\n",
       "\n",
       "    .dataframe thead th {\n",
       "        text-align: right;\n",
       "    }\n",
       "</style>\n",
       "<table border=\"1\" class=\"dataframe\">\n",
       "  <thead>\n",
       "    <tr style=\"text-align: right;\">\n",
       "      <th></th>\n",
       "      <th>Fecha</th>\n",
       "      <th>Precio TAR Regular (lt)</th>\n",
       "      <th>Precio TAR Premium (lt)</th>\n",
       "      <th>Precio TAR Diesel (lt)</th>\n",
       "    </tr>\n",
       "  </thead>\n",
       "  <tbody>\n",
       "    <tr>\n",
       "      <th>0</th>\n",
       "      <td>2019-01-01</td>\n",
       "      <td>16.935818</td>\n",
       "      <td>18.118558</td>\n",
       "      <td>18.823854</td>\n",
       "    </tr>\n",
       "    <tr>\n",
       "      <th>1</th>\n",
       "      <td>2019-01-02</td>\n",
       "      <td>16.935818</td>\n",
       "      <td>18.118558</td>\n",
       "      <td>18.823854</td>\n",
       "    </tr>\n",
       "  </tbody>\n",
       "</table>\n",
       "</div>"
      ],
      "text/plain": [
       "       Fecha  Precio TAR Regular (lt)  Precio TAR Premium (lt)  \\\n",
       "0 2019-01-01                16.935818                18.118558   \n",
       "1 2019-01-02                16.935818                18.118558   \n",
       "\n",
       "   Precio TAR Diesel (lt)  \n",
       "0               18.823854  \n",
       "1               18.823854  "
      ]
     },
     "execution_count": 24,
     "metadata": {},
     "output_type": "execute_result"
    }
   ],
   "source": [
    "cogs = pd.read_sql(sql = q, con = db_conn_post)\n",
    "\n",
    "cogs['Fecha']=pd.to_datetime(cogs['Fecha'])\n",
    "\n",
    "cogs.drop(columns=['Terminal', \n",
    "                   'Precio TAR Regular (m3)', \n",
    "                   'Precio TAR Premium (m3)',\n",
    "                   'Precio TAR Diesel (m3)'], inplace=True)\n",
    "\n",
    "cogs.head(2)"
   ]
  },
  {
   "cell_type": "code",
   "execution_count": 25,
   "id": "0d67bda2",
   "metadata": {},
   "outputs": [
    {
     "name": "stdout",
     "output_type": "stream",
     "text": [
      "(8379, 9)\n"
     ]
    },
    {
     "data": {
      "text/html": [
       "<div>\n",
       "<style scoped>\n",
       "    .dataframe tbody tr th:only-of-type {\n",
       "        vertical-align: middle;\n",
       "    }\n",
       "\n",
       "    .dataframe tbody tr th {\n",
       "        vertical-align: top;\n",
       "    }\n",
       "\n",
       "    .dataframe thead th {\n",
       "        text-align: right;\n",
       "    }\n",
       "</style>\n",
       "<table border=\"1\" class=\"dataframe\">\n",
       "  <thead>\n",
       "    <tr style=\"text-align: right;\">\n",
       "      <th></th>\n",
       "      <th>date</th>\n",
       "      <th>weekday</th>\n",
       "      <th>is_weekend</th>\n",
       "      <th>hour</th>\n",
       "      <th>raining_days</th>\n",
       "      <th>holiday_flag</th>\n",
       "      <th>covid</th>\n",
       "      <th>volume</th>\n",
       "      <th>price</th>\n",
       "    </tr>\n",
       "  </thead>\n",
       "  <tbody>\n",
       "    <tr>\n",
       "      <th>0</th>\n",
       "      <td>2019-06-09</td>\n",
       "      <td>7</td>\n",
       "      <td>1</td>\n",
       "      <td>6</td>\n",
       "      <td>26.1</td>\n",
       "      <td>0</td>\n",
       "      <td>0</td>\n",
       "      <td>84.356</td>\n",
       "      <td>19.59</td>\n",
       "    </tr>\n",
       "  </tbody>\n",
       "</table>\n",
       "</div>"
      ],
      "text/plain": [
       "        date  weekday  is_weekend  hour  raining_days  holiday_flag  covid  \\\n",
       "0 2019-06-09        7           1     6          26.1             0      0   \n",
       "\n",
       "   volume  price  \n",
       "0  84.356  19.59  "
      ]
     },
     "execution_count": 25,
     "metadata": {},
     "output_type": "execute_result"
    }
   ],
   "source": [
    "cols = ['date', 'hour', 'volume', 'price', 'raining_days', 'weekday', 'is_weekend', 'holiday_flag', 'covid']\n",
    "condition=df['product']=='regular'\n",
    "data=df[cols][condition].\\\n",
    "            groupby(by=['date', 'weekday', 'is_weekend', 'hour', 'raining_days','holiday_flag', 'covid'], as_index=False).\\\n",
    "            agg({'volume':'sum', 'price':'mean'})\n",
    "\n",
    "print(data.shape)\n",
    "data.head(1)"
   ]
  },
  {
   "cell_type": "code",
   "execution_count": 26,
   "id": "64dc155a",
   "metadata": {},
   "outputs": [
    {
     "data": {
      "text/html": [
       "<div>\n",
       "<style scoped>\n",
       "    .dataframe tbody tr th:only-of-type {\n",
       "        vertical-align: middle;\n",
       "    }\n",
       "\n",
       "    .dataframe tbody tr th {\n",
       "        vertical-align: top;\n",
       "    }\n",
       "\n",
       "    .dataframe thead th {\n",
       "        text-align: right;\n",
       "    }\n",
       "</style>\n",
       "<table border=\"1\" class=\"dataframe\">\n",
       "  <thead>\n",
       "    <tr style=\"text-align: right;\">\n",
       "      <th></th>\n",
       "      <th>date</th>\n",
       "      <th>weekday</th>\n",
       "      <th>is_weekend</th>\n",
       "      <th>hour</th>\n",
       "      <th>raining_days</th>\n",
       "      <th>holiday_flag</th>\n",
       "      <th>covid</th>\n",
       "      <th>volume</th>\n",
       "      <th>price</th>\n",
       "      <th>cost</th>\n",
       "    </tr>\n",
       "  </thead>\n",
       "  <tbody>\n",
       "    <tr>\n",
       "      <th>0</th>\n",
       "      <td>2019-06-09</td>\n",
       "      <td>7</td>\n",
       "      <td>1</td>\n",
       "      <td>6</td>\n",
       "      <td>26.1</td>\n",
       "      <td>0</td>\n",
       "      <td>0</td>\n",
       "      <td>84.356</td>\n",
       "      <td>19.59</td>\n",
       "      <td>17.67183</td>\n",
       "    </tr>\n",
       "  </tbody>\n",
       "</table>\n",
       "</div>"
      ],
      "text/plain": [
       "        date  weekday  is_weekend  hour  raining_days  holiday_flag  covid  \\\n",
       "0 2019-06-09        7           1     6          26.1             0      0   \n",
       "\n",
       "   volume  price      cost  \n",
       "0  84.356  19.59  17.67183  "
      ]
     },
     "execution_count": 26,
     "metadata": {},
     "output_type": "execute_result"
    }
   ],
   "source": [
    "data=data.merge(cogs[['Fecha','Precio TAR Regular (lt)']], \n",
    "                right_on='Fecha', \n",
    "                left_on='date', \n",
    "                how='left').\\\n",
    "            drop(columns=['Fecha'], inplace=False).\\\n",
    "            rename(columns={'Precio TAR Regular (lt)':'cost'})\n",
    "data.head(1)"
   ]
  },
  {
   "cell_type": "code",
   "execution_count": 27,
   "id": "39a97db4",
   "metadata": {},
   "outputs": [],
   "source": [
    "# fill empty data\n",
    "data.fillna(method='backfill', inplace=True)"
   ]
  },
  {
   "cell_type": "code",
   "execution_count": 28,
   "id": "2f8de993",
   "metadata": {},
   "outputs": [
    {
     "data": {
      "text/html": [
       "<div>\n",
       "<style scoped>\n",
       "    .dataframe tbody tr th:only-of-type {\n",
       "        vertical-align: middle;\n",
       "    }\n",
       "\n",
       "    .dataframe tbody tr th {\n",
       "        vertical-align: top;\n",
       "    }\n",
       "\n",
       "    .dataframe thead th {\n",
       "        text-align: right;\n",
       "    }\n",
       "</style>\n",
       "<table border=\"1\" class=\"dataframe\">\n",
       "  <thead>\n",
       "    <tr style=\"text-align: right;\">\n",
       "      <th></th>\n",
       "      <th>date</th>\n",
       "      <th>weekday</th>\n",
       "      <th>is_weekend</th>\n",
       "      <th>hour</th>\n",
       "      <th>raining_days</th>\n",
       "      <th>holiday_flag</th>\n",
       "      <th>covid</th>\n",
       "      <th>volume</th>\n",
       "      <th>price</th>\n",
       "      <th>cost</th>\n",
       "      <th>discount</th>\n",
       "      <th>final_cost</th>\n",
       "    </tr>\n",
       "  </thead>\n",
       "  <tbody>\n",
       "    <tr>\n",
       "      <th>0</th>\n",
       "      <td>2019-06-09</td>\n",
       "      <td>7</td>\n",
       "      <td>1</td>\n",
       "      <td>6</td>\n",
       "      <td>26.1</td>\n",
       "      <td>0</td>\n",
       "      <td>0</td>\n",
       "      <td>84.356</td>\n",
       "      <td>19.59</td>\n",
       "      <td>17.67183</td>\n",
       "      <td>1</td>\n",
       "      <td>16.67183</td>\n",
       "    </tr>\n",
       "  </tbody>\n",
       "</table>\n",
       "</div>"
      ],
      "text/plain": [
       "        date  weekday  is_weekend  hour  raining_days  holiday_flag  covid  \\\n",
       "0 2019-06-09        7           1     6          26.1             0      0   \n",
       "\n",
       "   volume  price      cost  discount  final_cost  \n",
       "0  84.356  19.59  17.67183         1    16.67183  "
      ]
     },
     "execution_count": 28,
     "metadata": {},
     "output_type": "execute_result"
    }
   ],
   "source": [
    "data['discount']=1\n",
    "data['final_cost']=data['cost']-data['discount']\n",
    "data.head(1)"
   ]
  },
  {
   "cell_type": "markdown",
   "id": "c975fb19",
   "metadata": {},
   "source": [
    "*cost vs price*"
   ]
  },
  {
   "cell_type": "code",
   "execution_count": 29,
   "id": "aec91bd1",
   "metadata": {},
   "outputs": [
    {
     "data": {
      "image/png": "[encoded data removed]",
      "text/plain": [
       "<Figure size 1440x432 with 1 Axes>"
      ]
     },
     "metadata": {},
     "output_type": "display_data"
    }
   ],
   "source": [
    "plt.figure(figsize=(20, 6))\n",
    "\n",
    "plt.plot(data['date'], data['price'], color='g', label='price')\n",
    "plt.plot(data['date'], data['final_cost'], color='b', label='cost')\n",
    "plt.tick_params(axis='y', labelcolor='k')\n",
    "\n",
    "\n",
    "plt.tick_params(axis='x', rotation=45)\n",
    "plt.title('price vs cost')\n",
    "plt.savefig('price_cost.png')\n",
    "plt.legend(loc='upper right')\n",
    "plt.savefig('price_cost.png')\n",
    "plt.show()"
   ]
  },
  {
   "cell_type": "markdown",
   "id": "2d02b6a7",
   "metadata": {},
   "source": [
    "In the following example, we'll incorporate a discount into our price list, assuming a discount of $1. However, it's important to note that discounts in real-world scenarios can vary dynamically. \n",
    "\n",
    "Nevertheless, for the purpose of this illustration, let's use a fixed discount to provide a clear graphical representation of how it affects revenue."
   ]
  },
  {
   "cell_type": "markdown",
   "id": "1d150a2c",
   "metadata": {},
   "source": [
    "*`optmization`*"
   ]
  },
  {
   "cell_type": "markdown",
   "id": "48581eec",
   "metadata": {},
   "source": [
    "To optimize the price using our current demand function\n",
    "\n",
    "$$demand=\\alpha price^b$$\n",
    "\n",
    "we first need to establish a range of prices to set bounds for the optimization process. This ensures that our optimization stays within reasonable and applicable limits. "
   ]
  },
  {
   "cell_type": "code",
   "execution_count": 30,
   "id": "91565c75",
   "metadata": {},
   "outputs": [
    {
     "data": {
      "image/png": "[encoded data removed]",
      "text/plain": [
       "<Figure size 1296x576 with 1 Axes>"
      ]
     },
     "metadata": {},
     "output_type": "display_data"
    }
   ],
   "source": [
    "plt.figure(figsize=(18, 8)) \n",
    "plt.boxplot([data['price'], data['final_cost']])\n",
    "plt.title('price/cost - boxplot')\n",
    "plt.xticks([1, 2], ['final price', 'final cost'])\n",
    "plt.ylabel('price-cost')\n",
    "plt.savefig('boxplot_price_cost.png')\n",
    "plt.show()"
   ]
  },
  {
   "cell_type": "markdown",
   "id": "b146397c",
   "metadata": {},
   "source": [
    "As depicted by the box plot, our median price lies slightly above \\\\$19, with a few outliers falling below \\\\$14. However, these outliers are highly unusual in our context, attributable to the significant cost reduction resulting from the COVID-19 pandemic. Considering our positive elasticity, we're inclined to set price bounds ranging from \\\\$17.99 to \\$23.99, ensuring a balance between maintaining profitability and adapting to market dynamics influenced by the pandemic.\n",
    "\n",
    "\n",
    "We are now employing Bayesian optimization to fine-tune our pricing strategy. This approach seeks to approximate the optimal solution by leveraging probabilistic functions. By harnessing the power of Bayesian optimization, we aim to efficiently navigate the complex landscape of pricing decisions, utilizing probabilistic reasoning to guide us towards maximizing our desired outcomes."
   ]
  },
  {
   "cell_type": "code",
   "execution_count": 31,
   "id": "07bff19d",
   "metadata": {},
   "outputs": [],
   "source": [
    "# define the target function\n",
    "def objective_function(x):\n",
    "    price = x[0]\n",
    "    return -demand(a, b, price)\n",
    "\n",
    "# bounds for search the optimal price\n",
    "price_bounds = (17.99, 23.99)\n",
    "\n",
    "# trying to find out the optimal price using bayes optimization\n",
    "result = gp_minimize(objective_function, [(price_bounds[0], price_bounds[1])])\n",
    "\n",
    "optimal_price = result.x[0]\n",
    "optimal_demand = demand(a, b, optimal_price)"
   ]
  },
  {
   "cell_type": "markdown",
   "id": "dfd7c714",
   "metadata": {},
   "source": [
    "As illustrated in the graph, our optimal price appears to be \\\\$23.99, aligning well with our elasticity coefficient of 3.49. This coefficient signifies a positive relationship between price and sales, indicating that higher prices correlate with increased sales. However, it's essential to note that this may not fully reflect reality. Despite recent sales data showing an uptick even with price increases, earlier sales history suggests that initial price hikes didn't significantly impact sales. This observation hints at a somewhat inelastic market.\n",
    "\n",
    "Furthermore, our current demand model solely considers price, overlooking other potential influential factors. Integrating additional features could yield a more comprehensive and realistic model. Nonetheless, at this juncture, we're gaining insights suggesting that our market for this product may be less price-sensitive than initially presumed."
   ]
  },
  {
   "cell_type": "code",
   "execution_count": 32,
   "id": "a9f288e0",
   "metadata": {},
   "outputs": [
    {
     "data": {
      "image/png": "[encoded data removed]",
      "text/plain": [
       "<Figure size 1296x504 with 1 Axes>"
      ]
     },
     "metadata": {},
     "output_type": "display_data"
    },
    {
     "name": "stdout",
     "output_type": "stream",
     "text": [
      "optimal price: 23.99\n",
      "optimal demand: 811.2012463665238\n"
     ]
    }
   ],
   "source": [
    "# viewing the solution\n",
    "prices = np.linspace(price_bounds[0], price_bounds[1], 100)\n",
    "demands = demand(a, b, prices)\n",
    "\n",
    "plt.figure(figsize=(18, 7))\n",
    "plt.plot(prices, demands, label='demand function', color='blue')\n",
    "plt.scatter(optimal_price, optimal_demand, color='red', label='optimal price')\n",
    "\n",
    "plt.title('optimal price for max demand')\n",
    "plt.xlabel('price')\n",
    "plt.ylabel('demand')\n",
    "plt.legend()\n",
    "plt.grid(True)\n",
    "plt.savefig('optimal_price.png')\n",
    "plt.show()\n",
    "\n",
    "print(\"optimal price:\", optimal_price)\n",
    "print(\"optimal demand:\", optimal_demand)"
   ]
  }
 ],
 "metadata": {
  "kernelspec": {
   "display_name": "Python 3 (ipykernel)",
   "language": "python",
   "name": "python3"
  },
  "language_info": {
   "codemirror_mode": {
    "name": "ipython",
    "version": 3
   },
   "file_extension": ".py",
   "mimetype": "text/x-python",
   "name": "python",
   "nbconvert_exporter": "python",
   "pygments_lexer": "ipython3",
   "version": "3.9.6"
  }
 },
 "nbformat": 4,
 "nbformat_minor": 5
}
