{
 "cells": [
  {
   "cell_type": "markdown",
   "id": "ca9dd6b2",
   "metadata": {},
   "source": [
    "*load data to database*"
   ]
  },
  {
   "cell_type": "markdown",
   "id": "f2bbbb6d",
   "metadata": {},
   "source": [
    "`packages`"
   ]
  },
  {
   "cell_type": "code",
   "execution_count": 1,
   "id": "a01d7e15",
   "metadata": {},
   "outputs": [
    {
     "name": "stderr",
     "output_type": "stream",
     "text": [
      "c:\\users\\migue\\appdata\\local\\programs\\python\\python39\\lib\\site-packages\\requests\\__init__.py:102: RequestsDependencyWarning: urllib3 (1.26.6) or chardet (5.2.0)/charset_normalizer (2.0.4) doesn't match a supported version!\n",
      "  warnings.warn(\"urllib3 ({}) or chardet ({})/charset_normalizer ({}) doesn't match a supported \"\n"
     ]
    }
   ],
   "source": [
    "# general\n",
    "import psycopg2\n",
    "import pandas as pd\n",
    "from sqlalchemy import create_engine\n",
    "import os, yaml, requests"
   ]
  },
  {
   "cell_type": "markdown",
   "id": "07d7749e",
   "metadata": {},
   "source": [
    "`read data and load to pandas dataframe`"
   ]
  },
  {
   "cell_type": "code",
   "execution_count": 2,
   "id": "fb538014",
   "metadata": {},
   "outputs": [],
   "source": [
    "#path = r'C:\\Users\\migue\\Documents\\datasets_kaggle\\Retail Price Optimization\\retail_price.csv'\n",
    "path = r'data.xlsx'\n",
    "df = pd.read_excel(path, sheet_name='data')"
   ]
  },
  {
   "cell_type": "code",
   "execution_count": 3,
   "id": "70dcf6b1",
   "metadata": {},
   "outputs": [
    {
     "data": {
      "text/html": [
       "<div>\n",
       "<style scoped>\n",
       "    .dataframe tbody tr th:only-of-type {\n",
       "        vertical-align: middle;\n",
       "    }\n",
       "\n",
       "    .dataframe tbody tr th {\n",
       "        vertical-align: top;\n",
       "    }\n",
       "\n",
       "    .dataframe thead th {\n",
       "        text-align: right;\n",
       "    }\n",
       "</style>\n",
       "<table border=\"1\" class=\"dataframe\">\n",
       "  <thead>\n",
       "    <tr style=\"text-align: right;\">\n",
       "      <th></th>\n",
       "      <th>date</th>\n",
       "      <th>day</th>\n",
       "      <th>month</th>\n",
       "      <th>year</th>\n",
       "      <th>product</th>\n",
       "      <th>hour</th>\n",
       "      <th>volume</th>\n",
       "      <th>transactions</th>\n",
       "      <th>avg_by_tkt</th>\n",
       "      <th>price</th>\n",
       "      <th>raining_days</th>\n",
       "      <th>weekday</th>\n",
       "      <th>is_weekend</th>\n",
       "      <th>holiday_name</th>\n",
       "    </tr>\n",
       "  </thead>\n",
       "  <tbody>\n",
       "    <tr>\n",
       "      <th>0</th>\n",
       "      <td>2019-06-09</td>\n",
       "      <td>9</td>\n",
       "      <td>6</td>\n",
       "      <td>2019</td>\n",
       "      <td>diesel</td>\n",
       "      <td>10</td>\n",
       "      <td>47.416</td>\n",
       "      <td>2</td>\n",
       "      <td>23.708</td>\n",
       "      <td>21.09</td>\n",
       "      <td>26.1</td>\n",
       "      <td>7</td>\n",
       "      <td>1</td>\n",
       "      <td>normal day</td>\n",
       "    </tr>\n",
       "  </tbody>\n",
       "</table>\n",
       "</div>"
      ],
      "text/plain": [
       "        date  day  month  year product  hour  volume  transactions  \\\n",
       "0 2019-06-09    9      6  2019  diesel    10  47.416             2   \n",
       "\n",
       "   avg_by_tkt  price  raining_days  weekday  is_weekend holiday_name  \n",
       "0      23.708  21.09          26.1        7           1   normal day  "
      ]
     },
     "execution_count": 3,
     "metadata": {},
     "output_type": "execute_result"
    }
   ],
   "source": [
    "df.head(1)"
   ]
  },
  {
   "cell_type": "markdown",
   "id": "c910c9d3",
   "metadata": {},
   "source": [
    "`set credentials for database connection`"
   ]
  },
  {
   "cell_type": "code",
   "execution_count": 4,
   "id": "bd8338a6",
   "metadata": {},
   "outputs": [],
   "source": [
    "# postgresql key\n",
    "usr = \"postgres\"\n",
    "pwd = \"V3lazco_1989\"\n",
    "db =  \"kaggle_data\"\n",
    "port = \"5432\"\n",
    "\n",
    "# create the engine for the postgresql object\n",
    "engine = create_engine(\"postgresql://\" + usr + \":\" + pwd + \"@localhost:5432/\" + db)"
   ]
  },
  {
   "cell_type": "markdown",
   "id": "4ca5db05",
   "metadata": {},
   "source": [
    "`load the data into the database`"
   ]
  },
  {
   "cell_type": "code",
   "execution_count": 5,
   "id": "902e7493",
   "metadata": {},
   "outputs": [
    {
     "data": {
      "text/plain": [
       "465"
      ]
     },
     "execution_count": 5,
     "metadata": {},
     "output_type": "execute_result"
    }
   ],
   "source": [
    "df.to_sql('data_gas_station', \n",
    "          con = engine, \n",
    "          if_exists = 'replace', \n",
    "          index = False, \n",
    "          schema = 'price_optimization')"
   ]
  }
 ],
 "metadata": {
  "kernelspec": {
   "display_name": "Python 3 (ipykernel)",
   "language": "python",
   "name": "python3"
  },
  "language_info": {
   "codemirror_mode": {
    "name": "ipython",
    "version": 3
   },
   "file_extension": ".py",
   "mimetype": "text/x-python",
   "name": "python",
   "nbconvert_exporter": "python",
   "pygments_lexer": "ipython3",
   "version": "3.9.6"
  }
 },
 "nbformat": 4,
 "nbformat_minor": 5
}
